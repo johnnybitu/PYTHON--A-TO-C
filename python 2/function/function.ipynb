{
 "cells": [
  {
   "cell_type": "code",
   "execution_count": 1,
   "metadata": {},
   "outputs": [],
   "source": [
    "def add ():\n",
    "    a = 20\n",
    "    y=30\n",
    "    c = a+y\n",
    "    print(c)\n",
    "    "
   ]
  },
  {
   "cell_type": "code",
   "execution_count": 2,
   "metadata": {},
   "outputs": [
    {
     "name": "stdout",
     "output_type": "stream",
     "text": [
      "50\n"
     ]
    }
   ],
   "source": [
    "add()"
   ]
  },
  {
   "cell_type": "code",
   "execution_count": 3,
   "metadata": {},
   "outputs": [
    {
     "data": {
      "text/plain": [
       "304"
      ]
     },
     "execution_count": 3,
     "metadata": {},
     "output_type": "execute_result"
    }
   ],
   "source": [
    "def add(y):\n",
    "    x = int(input(\"this is the bigger one\"))\n",
    "    c = x+y\n",
    "    return c\n",
    "add(300)"
   ]
  },
  {
   "cell_type": "code",
   "execution_count": 4,
   "metadata": {},
   "outputs": [
    {
     "name": "stdout",
     "output_type": "stream",
     "text": [
      "(8, 0)\n"
     ]
    }
   ],
   "source": [
    "def sub ():\n",
    "    x = int(input(\"this is number\"))\n",
    "    y = int(input(\"this is a number\"))\n",
    "    c = x+y\n",
    "    d = x-y\n",
    "    return c,d\n",
    "syn = sub()\n",
    "print(syn)"
   ]
  },
  {
   "cell_type": "code",
   "execution_count": 5,
   "metadata": {},
   "outputs": [
    {
     "name": "stdout",
     "output_type": "stream",
     "text": [
      "8\n",
      "0\n"
     ]
    }
   ],
   "source": [
    "\n",
    "def man (x,y):\n",
    "    x= int(input(\"this is number\"))\n",
    "    y = int (input(\"this ia  number\"))\n",
    "    c = x+y\n",
    "    d = x-y\n",
    "    return c,d\n",
    "love, lol = man(10,10)\n",
    "print(love)\n",
    "print(lol)"
   ]
  },
  {
   "cell_type": "code",
   "execution_count": 6,
   "metadata": {},
   "outputs": [
    {
     "name": "stdout",
     "output_type": "stream",
     "text": [
      "show function\n",
      "disp function\n"
     ]
    }
   ],
   "source": [
    "def disp():\n",
    "    def show():\n",
    "        print(\"show function\")\n",
    "    show()\n",
    "    print(\"disp function\")\n",
    "disp()"
   ]
  },
  {
   "cell_type": "code",
   "execution_count": 7,
   "metadata": {},
   "outputs": [
    {
     "name": "stdout",
     "output_type": "stream",
     "text": [
      "show functionjohnnydispfunction\n"
     ]
    }
   ],
   "source": [
    "def disp (st):\n",
    "    def show():\n",
    "        return \"show function\"\n",
    "    result= show()+st+\"dispfunction\"\n",
    "    return result\n",
    "print(disp(\"johnny\"))"
   ]
  },
  {
   "cell_type": "code",
   "execution_count": 8,
   "metadata": {},
   "outputs": [
    {
     "data": {
      "text/plain": [
       "24"
      ]
     },
     "execution_count": 8,
     "metadata": {},
     "output_type": "execute_result"
    }
   ],
   "source": [
    "def factorial(number):\n",
    "    if not isinstance(number, int):\n",
    "        raise TypeError(\"The number must be whole.\")\n",
    "    if number < 0:\n",
    "        raise ValueError(\"The number must be non-negative.\")\n",
    "    #Factorial calculation\n",
    "    def inner_factorial(number):\n",
    "        if number <= 1:\n",
    "            return 1\n",
    "        return number * inner_factorial(number - 1)\n",
    "    return inner_factorial(number)\n",
    "factorial(4)"
   ]
  },
  {
   "cell_type": "code",
   "execution_count": 9,
   "metadata": {},
   "outputs": [
    {
     "name": "stdout",
     "output_type": "stream",
     "text": [
      "dsp function \n",
      "show function\n"
     ]
    }
   ],
   "source": [
    "def dsp ():\n",
    "    def show():\n",
    "        print(\"show function\")\n",
    "    print(\"dsp function \")\n",
    "    show()\n",
    "dsp()"
   ]
  },
  {
   "cell_type": "code",
   "execution_count": 10,
   "metadata": {},
   "outputs": [
    {
     "name": "stdout",
     "output_type": "stream",
     "text": [
      "8\n",
      "13\n"
     ]
    }
   ],
   "source": [
    "def c (x,y):\n",
    "    x = int(input('this is number'))\n",
    "    y = int(input('this is number'))\n",
    "    a1 = x+y\n",
    "    def z(l,m):\n",
    "        l = int(input(('thsi is ')))\n",
    "        m = int(input('this is num'))\n",
    "        res=x+y+l+m\n",
    "        print(a1)\n",
    "        print( res)\n",
    "    z(1,1)\n",
    "c(1,1)\n",
    "        \n"
   ]
  },
  {
   "cell_type": "markdown",
   "metadata": {},
   "source": [
    "all input 4"
   ]
  },
  {
   "cell_type": "code",
   "execution_count": 11,
   "metadata": {},
   "outputs": [
    {
     "name": "stdout",
     "output_type": "stream",
     "text": [
      "81\n"
     ]
    }
   ],
   "source": [
    "def c (x,y):\n",
    "    x = int(input('this is number'))\n",
    "    y = int(input('this is number'))\n",
    "    a1 = x+y\n",
    "    def z(l,m):\n",
    "        l = int(input(('thsi is ')))\n",
    "        m = int(input('this is num'))\n",
    "        res=l+m\n",
    "        return res\n",
    "    result = z(1,2)+int(a1)\n",
    "    return result\n",
    "a = c(1,2)\n",
    "print(a)"
   ]
  },
  {
   "cell_type": "markdown",
   "metadata": {},
   "source": [
    "all input are 5"
   ]
  },
  {
   "cell_type": "code",
   "execution_count": 12,
   "metadata": {},
   "outputs": [
    {
     "name": "stdout",
     "output_type": "stream",
     "text": [
      "144\n"
     ]
    }
   ],
   "source": [
    "\n",
    "def a (x,y):\n",
    "    x = int(input(\"this is number\"))\n",
    "    y = int(input(\"this is number\"))\n",
    "    a1= x+y\n",
    "    def b (v,w):\n",
    "        v = int(input('this is number'))\n",
    "        w = int(input('this is nmber'))\n",
    "        b1= v+w\n",
    "        def c (m,n):\n",
    "            m = int(input('this is nmer'))\n",
    "            n = int(input('this is numb er'))\n",
    "            c1= m+n\n",
    "            def d2 (j,k):\n",
    "                j = int(input('this is number'))\n",
    "                k = int(input('this is number'))\n",
    "                d1 = j+k\n",
    "                return d1\n",
    "            res= d2(1,2)+c1\n",
    "            return res\n",
    "        res1 = c(1,3)+b1\n",
    "        return res1\n",
    "    res2= a1+b(1,2)\n",
    "    return res2\n",
    "aa = a(1,2)\n",
    "print(aa)\n"
   ]
  },
  {
   "cell_type": "code",
   "execution_count": 13,
   "metadata": {},
   "outputs": [
    {
     "data": {
      "text/plain": [
       "'sisp function  show this is '"
      ]
     },
     "execution_count": 13,
     "metadata": {},
     "output_type": "execute_result"
    }
   ],
   "source": [
    "def disp(sh):\n",
    "    return 'sisp function'+ sh()\n",
    "def show():\n",
    "    return \"  show this is \"\n",
    "disp(show)"
   ]
  },
  {
   "cell_type": "code",
   "execution_count": 14,
   "metadata": {},
   "outputs": [
    {
     "name": "stdout",
     "output_type": "stream",
     "text": [
      "show disp\n",
      "this is show\n"
     ]
    }
   ],
   "source": [
    "def disp1(sh):\n",
    "    print(\"show disp\")\n",
    "    return sh\n",
    "\n",
    "def show1():\n",
    "    return \"this is show\"\n",
    "    \n",
    "abc = disp1(show1)\n",
    "print(abc())"
   ]
  },
  {
   "cell_type": "code",
   "execution_count": 26,
   "metadata": {},
   "outputs": [],
   "source": [
    "def la(x,y,*arg):\n",
    "    c = x+y\n",
    "    print(c)"
   ]
  },
  {
   "cell_type": "code",
   "execution_count": 16,
   "metadata": {},
   "outputs": [
    {
     "name": "stdout",
     "output_type": "stream",
     "text": [
      "11\n"
     ]
    }
   ],
   "source": [
    "la(5,6,5,5,5)"
   ]
  },
  {
   "cell_type": "code",
   "execution_count": 17,
   "metadata": {},
   "outputs": [],
   "source": [
    "def lae( x, f, z , **num):\n",
    "    c = x +f+z\n",
    "    print(c)\n",
    "    "
   ]
  },
  {
   "cell_type": "code",
   "execution_count": 18,
   "metadata": {},
   "outputs": [
    {
     "name": "stdout",
     "output_type": "stream",
     "text": [
      "13\n"
     ]
    }
   ],
   "source": [
    "lae(x=2, f= 3, z = 8)"
   ]
  },
  {
   "cell_type": "code",
   "execution_count": 19,
   "metadata": {},
   "outputs": [],
   "source": [
    "r =lambda x,y : x+y"
   ]
  },
  {
   "cell_type": "code",
   "execution_count": 20,
   "metadata": {},
   "outputs": [
    {
     "data": {
      "text/plain": [
       "30"
      ]
     },
     "execution_count": 20,
     "metadata": {},
     "output_type": "execute_result"
    }
   ],
   "source": [
    "r(10,20)"
   ]
  },
  {
   "cell_type": "code",
   "execution_count": 21,
   "metadata": {},
   "outputs": [],
   "source": [
    "y = lambda x,y ,**num : x*y\n",
    "    "
   ]
  },
  {
   "cell_type": "code",
   "execution_count": 22,
   "metadata": {},
   "outputs": [
    {
     "data": {
      "text/plain": [
       "300"
      ]
     },
     "execution_count": 22,
     "metadata": {},
     "output_type": "execute_result"
    }
   ],
   "source": [
    "y (10,30)"
   ]
  },
  {
   "cell_type": "code",
   "execution_count": 23,
   "metadata": {},
   "outputs": [],
   "source": [
    "y = lambda x,y ,*num : x*y"
   ]
  },
  {
   "cell_type": "code",
   "execution_count": 24,
   "metadata": {},
   "outputs": [
    {
     "data": {
      "text/plain": [
       "28"
      ]
     },
     "execution_count": 24,
     "metadata": {},
     "output_type": "execute_result"
    }
   ],
   "source": [
    "y(4,7,8,9,7,5)"
   ]
  },
  {
   "cell_type": "code",
   "execution_count": 25,
   "metadata": {},
   "outputs": [
    {
     "data": {
      "text/plain": [
       "6"
      ]
     },
     "execution_count": 25,
     "metadata": {},
     "output_type": "execute_result"
    }
   ],
   "source": [
    "(lambda x:x+1)(5)"
   ]
  },
  {
   "cell_type": "code",
   "execution_count": null,
   "metadata": {},
   "outputs": [],
   "source": []
  }
 ],
 "metadata": {
  "kernelspec": {
   "display_name": "Python 3",
   "language": "python",
   "name": "python3"
  },
  "language_info": {
   "codemirror_mode": {
    "name": "ipython",
    "version": 3
   },
   "file_extension": ".py",
   "mimetype": "text/x-python",
   "name": "python",
   "nbconvert_exporter": "python",
   "pygments_lexer": "ipython3",
   "version": "3.10.8 (tags/v3.10.8:aaaf517, Oct 11 2022, 16:50:30) [MSC v.1933 64 bit (AMD64)]"
  },
  "orig_nbformat": 4,
  "vscode": {
   "interpreter": {
    "hash": "2119078cc0dfdde3c45464a9929dc1bbf7fecaa292faa7598f650c88797531d1"
   }
  }
 },
 "nbformat": 4,
 "nbformat_minor": 2
}
