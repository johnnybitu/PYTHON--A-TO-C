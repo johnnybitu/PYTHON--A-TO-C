{
 "cells": [
  {
   "cell_type": "code",
   "execution_count": 1,
   "metadata": {},
   "outputs": [],
   "source": [
    "a = 23"
   ]
  },
  {
   "cell_type": "code",
   "execution_count": 5,
   "metadata": {},
   "outputs": [
    {
     "name": "stdout",
     "output_type": "stream",
     "text": [
      "\n",
      "-\n",
      "--\n",
      "---\n",
      "----\n",
      "-----\n",
      "over\n"
     ]
    }
   ],
   "source": [
    "a = 0\n",
    "while a  <= 10:\n",
    "    print(a*'-')\n",
    "    a =a+1\n",
    "print('over')"
   ]
  },
  {
   "cell_type": "code",
   "execution_count": 6,
   "metadata": {},
   "outputs": [
    {
     "name": "stdout",
     "output_type": "stream",
     "text": [
      "\n",
      "***\n",
      "******\n",
      "*********\n",
      "************\n",
      "***************\n",
      "******************\n",
      "*********************\n",
      "************************\n",
      "***************************\n",
      "******************************\n",
      "this is false zone \n",
      "all over \n"
     ]
    }
   ],
   "source": [
    "b = 0\n",
    "while b <= 30:\n",
    "    print(b*'*')\n",
    "    b = b+3\n",
    "else:\n",
    "    print('this is false zone ')\n",
    "print('all over ')"
   ]
  },
  {
   "cell_type": "code",
   "execution_count": 8,
   "metadata": {},
   "outputs": [
    {
     "name": "stdout",
     "output_type": "stream",
     "text": [
      "*\n",
      "**\n",
      "***\n",
      "****\n",
      "*****\n",
      "******\n",
      "*******\n",
      "********\n",
      "*********\n",
      "**********\n",
      "rest of the code\n"
     ]
    }
   ],
   "source": [
    "i =0\n",
    "while True:\n",
    "    i = i+1\n",
    "    print(i*'*')\n",
    "    if (i ==10):\n",
    "        break\n",
    "print('rest of the code')\n"
   ]
  },
  {
   "cell_type": "code",
   "execution_count": 4,
   "metadata": {},
   "outputs": [
    {
     "name": "stdout",
     "output_type": "stream",
     "text": [
      "\n",
      "\n",
      "*\n",
      "**\n",
      "***\n",
      "****\n",
      "*****\n",
      "*\n",
      "**\n",
      "***\n",
      "****\n",
      "*****\n"
     ]
    }
   ],
   "source": [
    "i = 0\n",
    "j = 0\n",
    "while i <=5:\n",
    "    print(i*'*')\n",
    "    i = i+1\n",
    "    while j <= 5:\n",
    "        print(j*'*')\n",
    "        j= j+1"
   ]
  },
  {
   "cell_type": "code",
   "execution_count": 12,
   "metadata": {},
   "outputs": [
    {
     "name": "stdout",
     "output_type": "stream",
     "text": [
      "outerloop 0\n",
      "0 innerloop\n",
      "1 innerloop\n",
      "2 innerloop\n",
      "3 innerloop\n",
      "4 innerloop\n",
      "5 innerloop\n",
      "outerloop 1\n",
      "0 innerloop\n",
      "1 innerloop\n",
      "2 innerloop\n",
      "3 innerloop\n",
      "4 innerloop\n",
      "5 innerloop\n",
      "outerloop 2\n",
      "0 innerloop\n",
      "1 innerloop\n",
      "2 innerloop\n",
      "3 innerloop\n",
      "4 innerloop\n",
      "5 innerloop\n",
      "outerloop 3\n",
      "0 innerloop\n",
      "1 innerloop\n",
      "2 innerloop\n",
      "3 innerloop\n",
      "4 innerloop\n",
      "5 innerloop\n",
      "outerloop 4\n",
      "0 innerloop\n",
      "1 innerloop\n",
      "2 innerloop\n",
      "3 innerloop\n",
      "4 innerloop\n",
      "5 innerloop\n",
      "outerloop 5\n",
      "0 innerloop\n",
      "1 innerloop\n",
      "2 innerloop\n",
      "3 innerloop\n",
      "4 innerloop\n",
      "5 innerloop\n"
     ]
    }
   ],
   "source": [
    "i = 0\n",
    "while i <=5:\n",
    "    print('outerloop',i)\n",
    "    i = i+1\n",
    "    j = 0\n",
    "    while j <= 5:\n",
    "        print(j,'innerloop')\n",
    "        j= j+1\n",
    "    \n",
    "    "
   ]
  },
  {
   "cell_type": "code",
   "execution_count": 15,
   "metadata": {},
   "outputs": [
    {
     "name": "stdout",
     "output_type": "stream",
     "text": [
      "\n",
      "\n",
      "-\n",
      "--\n",
      "---\n",
      "----\n",
      "-----\n",
      "*\n",
      "\n",
      "-\n",
      "--\n",
      "---\n",
      "----\n",
      "-----\n",
      "**\n",
      "\n",
      "-\n",
      "--\n",
      "---\n",
      "----\n",
      "-----\n",
      "***\n",
      "\n",
      "-\n",
      "--\n",
      "---\n",
      "----\n",
      "-----\n",
      "****\n",
      "\n",
      "-\n",
      "--\n",
      "---\n",
      "----\n",
      "-----\n",
      "*****\n",
      "\n",
      "-\n",
      "--\n",
      "---\n",
      "----\n",
      "-----\n"
     ]
    }
   ],
   "source": [
    "i = 0\n",
    "\n",
    "while i <=5:\n",
    "    print(i*'*')\n",
    "    i = i+1\n",
    "    j =0\n",
    "    while j <= 5:\n",
    "        print(j*'-')\n",
    "        j= j+1"
   ]
  },
  {
   "cell_type": "code",
   "execution_count": 16,
   "metadata": {},
   "outputs": [
    {
     "name": "stdout",
     "output_type": "stream",
     "text": [
      "t\n",
      "h\n",
      "i\n",
      "s\n",
      " \n",
      "i\n",
      "s\n",
      " \n",
      "m\n",
      "y\n",
      " \n",
      "i\n",
      "n\n",
      "d\n",
      "i\n",
      "a\n"
     ]
    }
   ],
   "source": [
    "a =\"this is my india\"\n",
    "for i in a:\n",
    "    print(i)"
   ]
  },
  {
   "cell_type": "code",
   "execution_count": 20,
   "metadata": {},
   "outputs": [
    {
     "name": "stdout",
     "output_type": "stream",
     "text": [
      "0\n",
      "1\n",
      "2\n",
      "3\n",
      "4\n",
      "5\n",
      "6\n",
      "7\n",
      "8\n",
      "9\n",
      "10\n",
      "11\n",
      "12\n",
      "13\n",
      "14\n",
      "15\n"
     ]
    }
   ],
   "source": [
    "a =\"this is my india\"\n",
    "for i in range(len(a)):\n",
    "    print(i)"
   ]
  },
  {
   "cell_type": "code",
   "execution_count": 22,
   "metadata": {},
   "outputs": [
    {
     "name": "stdout",
     "output_type": "stream",
     "text": [
      "\n",
      "*\n",
      "**\n",
      "***\n",
      "****\n",
      "*****\n",
      "******\n",
      "*******\n",
      "********\n",
      "*********\n",
      "**********\n",
      "***********\n",
      "************\n",
      "*************\n",
      "**************\n",
      "***************\n"
     ]
    }
   ],
   "source": [
    "a =\"this is my india\"\n",
    "for i in range(len(a)):\n",
    "    print(i*'*')"
   ]
  },
  {
   "cell_type": "code",
   "execution_count": 23,
   "metadata": {},
   "outputs": [
    {
     "name": "stdout",
     "output_type": "stream",
     "text": [
      "\n",
      "*\n",
      "**\n",
      "***\n",
      "****\n",
      "*****\n"
     ]
    }
   ],
   "source": [
    "for i in range(6):\n",
    "    print(i*'*')"
   ]
  },
  {
   "cell_type": "code",
   "execution_count": 25,
   "metadata": {},
   "outputs": [
    {
     "name": "stdout",
     "output_type": "stream",
     "text": [
      "\n",
      "*\n",
      "**\n",
      "***\n",
      "****\n",
      "*****\n",
      "******\n",
      "*******\n",
      "********\n",
      "*********\n",
      "**********\n",
      "***********\n",
      "************\n",
      "*************\n",
      "**************\n",
      "***************\n",
      "\n",
      "*\n",
      "**\n",
      "***\n",
      "****\n",
      "*****\n",
      "******\n",
      "*******\n",
      "********\n",
      "*********\n",
      "**********\n",
      "***********\n",
      "************\n",
      "*************\n",
      "**************\n",
      "***************\n"
     ]
    }
   ],
   "source": [
    "a =\"this is my india\"\n",
    "for i in range(len(a)):\n",
    "    print(i*'*')\n",
    "else:\n",
    "    for i in range(len(a)):\n",
    "        print(i*'*')"
   ]
  },
  {
   "cell_type": "code",
   "execution_count": 28,
   "metadata": {},
   "outputs": [
    {
     "name": "stdout",
     "output_type": "stream",
     "text": [
      "\n",
      "\n",
      "*\n",
      "**\n",
      "***\n",
      "****\n",
      "*****\n",
      "*\n",
      "\n",
      "*\n",
      "**\n",
      "***\n",
      "****\n",
      "*****\n",
      "**\n",
      "\n",
      "*\n",
      "**\n",
      "***\n",
      "****\n",
      "*****\n",
      "***\n",
      "\n",
      "*\n",
      "**\n",
      "***\n",
      "****\n",
      "*****\n",
      "****\n",
      "\n",
      "*\n",
      "**\n",
      "***\n",
      "****\n",
      "*****\n"
     ]
    }
   ],
   "source": [
    "for i in range(5):\n",
    "    print(i*'*')\n",
    "    for j in range(6):\n",
    "        print(j*'*')"
   ]
  },
  {
   "cell_type": "code",
   "execution_count": null,
   "metadata": {},
   "outputs": [],
   "source": []
  }
 ],
 "metadata": {
  "kernelspec": {
   "display_name": "Python 3",
   "language": "python",
   "name": "python3"
  },
  "language_info": {
   "codemirror_mode": {
    "name": "ipython",
    "version": 3
   },
   "file_extension": ".py",
   "mimetype": "text/x-python",
   "name": "python",
   "nbconvert_exporter": "python",
   "pygments_lexer": "ipython3",
   "version": "3.10.8 (tags/v3.10.8:aaaf517, Oct 11 2022, 16:50:30) [MSC v.1933 64 bit (AMD64)]"
  },
  "orig_nbformat": 4,
  "vscode": {
   "interpreter": {
    "hash": "e0acaf148705ed9ed86cc5cad12259d7985e30670e5686e5f55604a9b3b84a55"
   }
  }
 },
 "nbformat": 4,
 "nbformat_minor": 2
}
