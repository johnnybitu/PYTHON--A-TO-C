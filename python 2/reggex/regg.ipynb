{
 "cells": [
  {
   "cell_type": "code",
   "execution_count": 1,
   "metadata": {},
   "outputs": [],
   "source": [
    "import re"
   ]
  },
  {
   "cell_type": "code",
   "execution_count": 4,
   "metadata": {},
   "outputs": [
    {
     "name": "stdout",
     "output_type": "stream",
     "text": [
      "['joh', 'joh']\n"
     ]
    }
   ],
   "source": [
    "jo = \"my name is johnny and i am indian , joh is my brother and \"\n",
    "\n",
    "x = re.findall('joh' , jo)\n",
    "print(x)"
   ]
  },
  {
   "cell_type": "markdown",
   "metadata": {},
   "source": [
    "- if nothing will match then it will show empty list"
   ]
  },
  {
   "cell_type": "code",
   "execution_count": 5,
   "metadata": {},
   "outputs": [
    {
     "name": "stdout",
     "output_type": "stream",
     "text": [
      "space are located 2\n"
     ]
    }
   ],
   "source": [
    "jo = \"my name is johnny and i am indian , joh is my brother and \"\n",
    "\n",
    "x = re.search(\"\\s\" ,jo)\n",
    "print(\"space are located\" , x.start())  # it will return first one "
   ]
  },
  {
   "cell_type": "code",
   "execution_count": 8,
   "metadata": {},
   "outputs": [
    {
     "name": "stdout",
     "output_type": "stream",
     "text": [
      "space are located 12\n"
     ]
    }
   ],
   "source": [
    "jo = \"my name is johnny and i am indian , joh is my brother and \"\n",
    "\n",
    "x = re.search(\"oh\" ,jo)\n",
    "print(\"space are located\" , x.start())"
   ]
  },
  {
   "cell_type": "code",
   "execution_count": 9,
   "metadata": {},
   "outputs": [
    {
     "name": "stdout",
     "output_type": "stream",
     "text": [
      "['my name ', 's johnny and ', ' am ', 'nd', 'an , joh ', 's my brother and ']\n"
     ]
    }
   ],
   "source": [
    "jo = \"my name is johnny and i am indian , joh is my brother and \"\n",
    "\n",
    "x = re.split(\"i\" ,jo)\n",
    "print(x)"
   ]
  },
  {
   "cell_type": "code",
   "execution_count": 13,
   "metadata": {},
   "outputs": [
    {
     "name": "stdout",
     "output_type": "stream",
     "text": [
      "['my', 'name', 'is johnny and i am indian , joh is my brother and ']\n"
     ]
    }
   ],
   "source": [
    "jo = \"my name is johnny and i am indian , joh is my brother and \"    # you can control number of spilit by maxspilit\n",
    "\n",
    "t= re.split('\\s' ,jo , 2)\n",
    "print(t)"
   ]
  },
  {
   "cell_type": "code",
   "execution_count": 14,
   "metadata": {},
   "outputs": [
    {
     "name": "stdout",
     "output_type": "stream",
     "text": [
      "['my', 'name', 'is', 'johnny', 'and i am indian , joh is my brother and ']\n"
     ]
    }
   ],
   "source": [
    "jo = \"my name is johnny and i am indian , joh is my brother and \"    # you can control number of spilit by maxspilit\n",
    "\n",
    "t= re.split('\\s' ,jo , 4)\n",
    "print(t)"
   ]
  },
  {
   "cell_type": "code",
   "execution_count": 16,
   "metadata": {},
   "outputs": [
    {
     "name": "stdout",
     "output_type": "stream",
     "text": [
      "my---name---is---johnny---and---i---am---indian---,---joh---is---my---brother---and---\n"
     ]
    }
   ],
   "source": [
    "# sub function \n",
    "\n",
    "jo = \"my name is johnny and i am indian , joh is my brother and \" \n",
    "\n",
    "xx = re.sub('\\s' ,\"---\", jo)\n",
    "print(xx)"
   ]
  },
  {
   "cell_type": "code",
   "execution_count": 17,
   "metadata": {},
   "outputs": [
    {
     "name": "stdout",
     "output_type": "stream",
     "text": [
      "my_-__-_name_-__-_is_-__-_johnny and i am indian , joh is my brother and \n"
     ]
    }
   ],
   "source": [
    "jo = \"my name is johnny and i am indian , joh is my brother and \"   \n",
    "\n",
    "xt = re.sub (\"\\s\" , \"_-__-_\" , jo , 3)\n",
    "print(xt)"
   ]
  },
  {
   "cell_type": "code",
   "execution_count": null,
   "metadata": {},
   "outputs": [],
   "source": []
  }
 ],
 "metadata": {
  "kernelspec": {
   "display_name": "Python 3",
   "language": "python",
   "name": "python3"
  },
  "language_info": {
   "codemirror_mode": {
    "name": "ipython",
    "version": 3
   },
   "file_extension": ".py",
   "mimetype": "text/x-python",
   "name": "python",
   "nbconvert_exporter": "python",
   "pygments_lexer": "ipython3",
   "version": "3.10.8"
  },
  "orig_nbformat": 4,
  "vscode": {
   "interpreter": {
    "hash": "26de051ba29f2982a8de78e945f0abaf191376122a1563185a90213a26c5da77"
   }
  }
 },
 "nbformat": 4,
 "nbformat_minor": 2
}
