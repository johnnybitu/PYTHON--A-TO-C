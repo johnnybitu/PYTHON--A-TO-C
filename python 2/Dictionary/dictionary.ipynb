{
 "cells": [
  {
   "cell_type": "code",
   "execution_count": 3,
   "metadata": {},
   "outputs": [
    {
     "name": "stdout",
     "output_type": "stream",
     "text": [
      "{'a': 654, 'b': 4654}\n"
     ]
    }
   ],
   "source": [
    "a ={'a':654, 'b':4654}\n",
    "\n",
    "print(a)"
   ]
  },
  {
   "cell_type": "code",
   "execution_count": 12,
   "metadata": {},
   "outputs": [
    {
     "name": "stdout",
     "output_type": "stream",
     "text": [
      "dict_keys(['a', 'b'])\n",
      "dict_values([654, 4654])\n",
      "654\n",
      "4654\n"
     ]
    }
   ],
   "source": [
    "print(a.keys())\n",
    "print(a.values())\n",
    "# accessing the dictionary\n",
    "\n",
    "print(a['a'])\n",
    "print(a['b'])\n",
    "\n"
   ]
  },
  {
   "cell_type": "code",
   "execution_count": 13,
   "metadata": {},
   "outputs": [
    {
     "name": "stdout",
     "output_type": "stream",
     "text": [
      "before modify {101: 'johnny', 102: 'tanny'}\n",
      "after modify {101: 'don', 102: 'tanny'}\n"
     ]
    }
   ],
   "source": [
    "# modify the dictionary\n",
    "\n",
    "a = {101:'johnny', 102:'tanny'}\n",
    "print('before modify', a)\n",
    "\n",
    "a[101]= 'don'\n",
    "\n",
    "print('after modify', a)\n"
   ]
  },
  {
   "cell_type": "code",
   "execution_count": 14,
   "metadata": {},
   "outputs": [
    {
     "name": "stdout",
     "output_type": "stream",
     "text": [
      "before inserting {'a': 455464, 'c': 45646, 'd': 44564}\n",
      "after inserting {'a': 455464, 'c': 45646, 'd': 44564, 'ef': 'johnny and bit'}\n"
     ]
    }
   ],
   "source": [
    "# inserting / adding new items to the dictionary\n",
    "\n",
    "b = {'a':455464, 'c':45646, 'd':44564}\n",
    "print('before inserting' , b)\n",
    "\n",
    "b['ef'] = 'johnny and bit'\n",
    "\n",
    "print('after inserting', b)\n"
   ]
  },
  {
   "cell_type": "code",
   "execution_count": 16,
   "metadata": {},
   "outputs": [
    {
     "name": "stdout",
     "output_type": "stream",
     "text": [
      "before deletion {'a': 455464, 'c': 45646, 'd': 44564}\n",
      "after deletion {'c': 45646, 'd': 44564}\n"
     ]
    }
   ],
   "source": [
    "# Deletion\n",
    "\n",
    "b = {'a':455464, 'c':45646, 'd':44564}\n",
    "print('before deletion' , b)\n",
    "\n",
    "del b['a']\n",
    "print('after deletion', b)\n",
    "\n",
    "del b # it will delete whole delete so you can't access anything \n"
   ]
  },
  {
   "cell_type": "code",
   "execution_count": 18,
   "metadata": {},
   "outputs": [
    {
     "name": "stdout",
     "output_type": "stream",
     "text": [
      "False\n",
      "True\n",
      "True\n"
     ]
    }
   ],
   "source": [
    "# testing key\n",
    "\n",
    "b = {'a':455464, 'c':45646, 'd':44564}\n",
    "\n",
    "print('ef' in b )\n",
    "\n",
    "print('a' in b)\n",
    "print('ef' not in b)\n"
   ]
  },
  {
   "cell_type": "markdown",
   "metadata": {},
   "source": [
    "# Fromkeys()"
   ]
  },
  {
   "cell_type": "code",
   "execution_count": 23,
   "metadata": {},
   "outputs": [
    {
     "name": "stdout",
     "output_type": "stream",
     "text": [
      "{10: ['a'], 20: ['a'], 30: ['a'], 40: ['a'], 50: ['a']}\n"
     ]
    }
   ],
   "source": [
    "a = (10,20,30,40,50)\n",
    "b = ['a']\n",
    "\n",
    "c = dict.fromkeys(a,b)\n",
    "print(c)"
   ]
  },
  {
   "cell_type": "code",
   "execution_count": 24,
   "metadata": {},
   "outputs": [
    {
     "name": "stdout",
     "output_type": "stream",
     "text": [
      "{10: ['a', 'b'], 20: ['a', 'b'], 30: ['a', 'b'], 40: ['a', 'b'], 50: ['a', 'b']}\n"
     ]
    }
   ],
   "source": [
    "a = (10,20,30,40,50)\n",
    "b = ['a','b']\n",
    "\n",
    "c = dict.fromkeys(a,b)\n",
    "print(c)"
   ]
  },
  {
   "cell_type": "markdown",
   "metadata": {},
   "source": [
    "# get()"
   ]
  },
  {
   "cell_type": "code",
   "execution_count": 29,
   "metadata": {},
   "outputs": [
    {
     "name": "stdout",
     "output_type": "stream",
     "text": [
      "455464\n",
      "101\n",
      "{'a': 455464, 'c': 45646, 'd': 44564}\n",
      "101\n"
     ]
    }
   ],
   "source": [
    "b = {'a':455464, 'c':45646, 'd':44564}\n",
    "\n",
    "print(b.get('a'))\n",
    "\n",
    "print(b.get('e' , 101))\n",
    "c=b.get('e' , 101)\n",
    "print(b)\n",
    "print(c)"
   ]
  },
  {
   "cell_type": "code",
   "execution_count": 32,
   "metadata": {},
   "outputs": [],
   "source": [
    "c =b.items()"
   ]
  },
  {
   "cell_type": "code",
   "execution_count": 33,
   "metadata": {},
   "outputs": [],
   "source": [
    "m = list(c)"
   ]
  },
  {
   "cell_type": "code",
   "execution_count": 36,
   "metadata": {},
   "outputs": [
    {
     "data": {
      "text/plain": [
       "('c', 45646)"
      ]
     },
     "execution_count": 36,
     "metadata": {},
     "output_type": "execute_result"
    }
   ],
   "source": [
    "m[1]"
   ]
  },
  {
   "cell_type": "code",
   "execution_count": 37,
   "metadata": {},
   "outputs": [
    {
     "name": "stdout",
     "output_type": "stream",
     "text": [
      "a\n",
      "455464\n",
      "c\n",
      "45646\n",
      "d\n",
      "44564\n"
     ]
    }
   ],
   "source": [
    "for i in m:\n",
    "    for r in i:\n",
    "        print(r)"
   ]
  },
  {
   "cell_type": "markdown",
   "metadata": {},
   "source": [
    "- update()"
   ]
  },
  {
   "cell_type": "code",
   "execution_count": 42,
   "metadata": {},
   "outputs": [
    {
     "name": "stdout",
     "output_type": "stream",
     "text": [
      "{'a': 455464, 'c': 45646, 'd': 44564}\n",
      "{'a': 455464, 'c': 45646, 'd': 44564, 104: 5546}\n"
     ]
    }
   ],
   "source": [
    "b = {'a':455464, 'c':45646, 'd':44564}\n",
    "print(b)\n",
    "b.update({104:5546})\n",
    "print(b)\n"
   ]
  },
  {
   "cell_type": "code",
   "execution_count": 43,
   "metadata": {},
   "outputs": [
    {
     "name": "stdout",
     "output_type": "stream",
     "text": [
      "{'5': '6', '4': '6', '56': '6', '635': '65'}\n"
     ]
    }
   ],
   "source": [
    "a ={}\n",
    "n = int(input('thi is '))\n",
    "\n",
    "for i in range(n):\n",
    "    k = input('enter')\n",
    "    v = input('value')\n",
    "    a.update({k:v})\n",
    "print(a)"
   ]
  },
  {
   "cell_type": "code",
   "execution_count": null,
   "metadata": {},
   "outputs": [],
   "source": []
  }
 ],
 "metadata": {
  "kernelspec": {
   "display_name": "Python 3",
   "language": "python",
   "name": "python3"
  },
  "language_info": {
   "codemirror_mode": {
    "name": "ipython",
    "version": 3
   },
   "file_extension": ".py",
   "mimetype": "text/x-python",
   "name": "python",
   "nbconvert_exporter": "python",
   "pygments_lexer": "ipython3",
   "version": "3.10.8"
  },
  "orig_nbformat": 4,
  "vscode": {
   "interpreter": {
    "hash": "26de051ba29f2982a8de78e945f0abaf191376122a1563185a90213a26c5da77"
   }
  }
 },
 "nbformat": 4,
 "nbformat_minor": 2
}
