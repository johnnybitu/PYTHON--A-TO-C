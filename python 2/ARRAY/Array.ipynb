{
 "cells": [
  {
   "cell_type": "markdown",
   "metadata": {},
   "source": [
    "- ONE DIMENTIONAL ARRAY \n",
    "\n",
    "- IMPORT ARRAY MODULE TO USE "
   ]
  },
  {
   "cell_type": "code",
   "execution_count": 2,
   "metadata": {},
   "outputs": [],
   "source": [
    "import array"
   ]
  },
  {
   "cell_type": "code",
   "execution_count": 3,
   "metadata": {},
   "outputs": [
    {
     "name": "stdout",
     "output_type": "stream",
     "text": [
      "array('i', [1, 2, 3, 4, 5, 6, 7])\n"
     ]
    }
   ],
   "source": [
    "a = array.array('i', [1,2,3,4,5,6,7])\n",
    "print(a)"
   ]
  },
  {
   "cell_type": "code",
   "execution_count": 4,
   "metadata": {},
   "outputs": [
    {
     "name": "stdout",
     "output_type": "stream",
     "text": [
      "array('i', [1, 2, 3, 4, 5, 6, 7, 8, 9, 10])\n"
     ]
    }
   ],
   "source": [
    "from array import *\n",
    "\n",
    "b = array('i' , [1,2,3,4,5,6,7,8,9,10])\n",
    "print(b)"
   ]
  },
  {
   "cell_type": "markdown",
   "metadata": {},
   "source": [
    "- EMPTY ARRAY "
   ]
  },
  {
   "cell_type": "code",
   "execution_count": 5,
   "metadata": {},
   "outputs": [
    {
     "name": "stdout",
     "output_type": "stream",
     "text": [
      "array('i', [1, 2, 3, 6])\n"
     ]
    }
   ],
   "source": [
    "cc  = array('i' ,[])  # EMPTY ARRAY \n",
    "\n",
    "# now i will append elemnts in cc by using loop\n",
    "\n",
    "aa = int(input('position'))\n",
    "\n",
    "for i in range(aa):\n",
    "    cc.append(int(input(i)))\n",
    "print(cc)\n",
    "\n",
    "\n"
   ]
  },
  {
   "cell_type": "code",
   "execution_count": 6,
   "metadata": {},
   "outputs": [
    {
     "name": "stdout",
     "output_type": "stream",
     "text": [
      "array('i', [6, 3, 6])\n"
     ]
    }
   ],
   "source": [
    "dd = array('i' , [])\n",
    "\n",
    "subjects = int(input('total subjects'))\n",
    "\n",
    "for i in range(subjects):\n",
    "    dd.append(int(input(i)))\n",
    "print(dd)"
   ]
  },
  {
   "cell_type": "code",
   "execution_count": 7,
   "metadata": {},
   "outputs": [
    {
     "name": "stdout",
     "output_type": "stream",
     "text": [
      "6\n",
      "3\n",
      "6\n"
     ]
    }
   ],
   "source": [
    "print(dd[0])\n",
    "print(dd[1])\n",
    "print(dd[2])"
   ]
  },
  {
   "cell_type": "markdown",
   "metadata": {},
   "source": [
    "- ACCESSING WITH FOR LOOP"
   ]
  },
  {
   "cell_type": "code",
   "execution_count": 8,
   "metadata": {},
   "outputs": [
    {
     "name": "stdout",
     "output_type": "stream",
     "text": [
      "0 101\n",
      "1 2\n",
      "2 3\n",
      "3 4\n",
      "4 5\n",
      "5 6\n",
      "6 7\n",
      "7 7\n",
      "8 8\n"
     ]
    }
   ],
   "source": [
    "n = array('i' , [101,2,3,4,5,6,7,7,8])\n",
    "m = len(n)\n",
    "\n",
    "for i in range(m):\n",
    "    print(i ,n[i])"
   ]
  },
  {
   "cell_type": "code",
   "execution_count": 9,
   "metadata": {},
   "outputs": [
    {
     "name": "stdout",
     "output_type": "stream",
     "text": [
      "0 10\n",
      "1 11\n",
      "2 12\n",
      "3 13\n",
      "4 14\n",
      "5 15\n",
      "6 16\n",
      "7 17\n",
      "8 18\n",
      "9 19\n"
     ]
    }
   ],
   "source": [
    "mm = array('i' , range(10,20))\n",
    "\n",
    "nn = len(mm)\n",
    "\n",
    "for i in range(nn):\n",
    "    print(i, mm[i])"
   ]
  },
  {
   "cell_type": "markdown",
   "metadata": {},
   "source": [
    "- APPEND() METHOD"
   ]
  },
  {
   "cell_type": "code",
   "execution_count": 10,
   "metadata": {},
   "outputs": [
    {
     "name": "stdout",
     "output_type": "stream",
     "text": [
      "array('i', [1, 2, 3, 4, 5]) length 5\n",
      "array('i', [1, 2, 3, 4, 5, 45]) length  6\n"
     ]
    }
   ],
   "source": [
    "cc = array('i', [1,2,3,4,5])\n",
    "print(cc , 'length', len(cc))\n",
    "cc.append(45)\n",
    "print(cc,'length ',len(cc))"
   ]
  },
  {
   "cell_type": "markdown",
   "metadata": {},
   "source": [
    "- GETTING USER INPUT"
   ]
  },
  {
   "cell_type": "code",
   "execution_count": 11,
   "metadata": {},
   "outputs": [
    {
     "name": "stdout",
     "output_type": "stream",
     "text": [
      "6\n",
      "6\n",
      "6\n",
      "6\n",
      "6\n"
     ]
    }
   ],
   "source": [
    "\n",
    "cc = array('i', [])\n",
    "aa = int(input('position'))\n",
    "\n",
    "for i in range(aa):\n",
    "    cc.append(int(input(i)))\n",
    "for i in cc:\n",
    "    print(i)"
   ]
  },
  {
   "cell_type": "code",
   "execution_count": 12,
   "metadata": {},
   "outputs": [
    {
     "name": "stdout",
     "output_type": "stream",
     "text": [
      "0 6\n",
      "1 6\n",
      "2 6\n",
      "3 6\n",
      "4 6\n",
      "5 6\n"
     ]
    }
   ],
   "source": [
    "\n",
    "cc = array('i', [])\n",
    "aa = int(input('position'))\n",
    "\n",
    "for i in range(aa):\n",
    "    cc.append(int(input(i)))\n",
    "for i in range(len(cc)):\n",
    "    print(i,cc[i])"
   ]
  },
  {
   "cell_type": "markdown",
   "metadata": {},
   "source": [
    "- INSERT()"
   ]
  },
  {
   "cell_type": "code",
   "execution_count": 15,
   "metadata": {},
   "outputs": [
    {
     "name": "stdout",
     "output_type": "stream",
     "text": [
      "101\n",
      "102\n",
      "103\n",
      "104\n",
      "after joh\n",
      "101\n",
      "102\n",
      "256\n",
      "103\n",
      "104\n"
     ]
    }
   ],
   "source": [
    "joh = array('i', [101,102,103,104])\n",
    "\n",
    "for i in joh:\n",
    "    print(i)\n",
    "\n",
    "print('after joh')\n",
    "\n",
    "joh.insert(2, 256)\n",
    "\n",
    "for i in joh:\n",
    "    print(i)\n",
    "\n",
    "\n"
   ]
  },
  {
   "cell_type": "markdown",
   "metadata": {},
   "source": [
    "- REMOVE()"
   ]
  },
  {
   "cell_type": "code",
   "execution_count": 18,
   "metadata": {},
   "outputs": [
    {
     "name": "stdout",
     "output_type": "stream",
     "text": [
      "1\n",
      "2\n",
      "3\n",
      "4\n",
      "5\n",
      "67\n",
      "9\n",
      "array('i', [1, 2, 3, 4, 5, 67, 9])\n",
      "after remove\n",
      "1\n",
      "3\n",
      "4\n",
      "5\n",
      "67\n",
      "9\n",
      "array('i', [1, 3, 4, 5, 67, 9])\n"
     ]
    }
   ],
   "source": [
    "a = array('i', [1,2,3,4,5,67,9])\n",
    "for i in a :\n",
    "    print(i)\n",
    "print(a)\n",
    "\n",
    "print ('after remove')\n",
    "a.remove(2)\n",
    "for i in a :\n",
    "    print(i)\n",
    "print(a)"
   ]
  },
  {
   "cell_type": "markdown",
   "metadata": {},
   "source": [
    "- pop()"
   ]
  },
  {
   "cell_type": "code",
   "execution_count": 19,
   "metadata": {},
   "outputs": [
    {
     "name": "stdout",
     "output_type": "stream",
     "text": [
      "1\n",
      "2\n",
      "3\n",
      "4\n",
      "5\n",
      "67\n",
      "9\n",
      "array('i', [1, 2, 3, 4, 5, 67, 9])\n",
      "after  pop method\n",
      "1\n",
      "2\n",
      "3\n",
      "4\n",
      "5\n",
      "67\n",
      "array('i', [1, 2, 3, 4, 5, 67])\n"
     ]
    }
   ],
   "source": [
    "g= array('i', [1,2,3,4,5,67,9])\n",
    "for i in g:\n",
    "    print(i)\n",
    "print(g)\n",
    "\n",
    "print('after  pop method')\n",
    "\n",
    "g.pop()\n",
    "for i in g:\n",
    "    print(i)\n",
    "print(g)"
   ]
  },
  {
   "cell_type": "markdown",
   "metadata": {},
   "source": [
    "- INDEX()"
   ]
  },
  {
   "cell_type": "code",
   "execution_count": 20,
   "metadata": {},
   "outputs": [
    {
     "name": "stdout",
     "output_type": "stream",
     "text": [
      "5\n"
     ]
    }
   ],
   "source": [
    "h =array('i', [1,2,3,4,5,67,9])\n",
    "\n",
    "print(h.index(67))"
   ]
  },
  {
   "cell_type": "markdown",
   "metadata": {},
   "source": [
    "- REVERSE()"
   ]
  },
  {
   "cell_type": "code",
   "execution_count": 25,
   "metadata": {},
   "outputs": [
    {
     "name": "stdout",
     "output_type": "stream",
     "text": [
      "array('i', [9, 67, 5, 4, 3, 2, 1])\n"
     ]
    }
   ],
   "source": [
    "K =array('i', [1,2,3,4,5,67,9])\n",
    "K.reverse()\n",
    "print(K)"
   ]
  },
  {
   "cell_type": "markdown",
   "metadata": {},
   "source": [
    "- EXTEND()"
   ]
  },
  {
   "cell_type": "code",
   "execution_count": 28,
   "metadata": {},
   "outputs": [
    {
     "name": "stdout",
     "output_type": "stream",
     "text": [
      "1\n",
      "2\n",
      "3\n",
      "4\n",
      "5\n",
      "67\n",
      "9\n",
      "array('i', [1, 2, 3, 4, 5, 67, 9])\n",
      "after extend method\n",
      "1\n",
      "2\n",
      "3\n",
      "4\n",
      "5\n",
      "67\n",
      "9\n",
      "1\n",
      "2\n",
      "3\n",
      "4\n",
      "5\n",
      "67\n",
      "9\n",
      "78\n",
      "96\n",
      "96\n",
      "array('i', [1, 2, 3, 4, 5, 67, 9, 1, 2, 3, 4, 5, 67, 9, 78, 96, 96])\n"
     ]
    }
   ],
   "source": [
    "l = array('i', [1,2,3,4,5,67,9])\n",
    "\n",
    "for i in l:\n",
    "    print(i)\n",
    "print(l)\n",
    "print('after extend method')\n",
    "\n",
    "ll = array('i', [1,2,3,4,5,67,9,78,96,96])\n",
    "l.extend(ll)\n",
    "\n",
    "for i in l:\n",
    "    print(i)\n",
    "print(l)"
   ]
  },
  {
   "cell_type": "markdown",
   "metadata": {},
   "source": [
    "- slicing arrays "
   ]
  },
  {
   "cell_type": "code",
   "execution_count": 34,
   "metadata": {},
   "outputs": [
    {
     "data": {
      "text/plain": [
       "16"
      ]
     },
     "execution_count": 34,
     "metadata": {},
     "output_type": "execute_result"
    }
   ],
   "source": [
    "lll =array('i', [1,2,3,4,5,67,9,646,55,96,88,44,665,554,56,54])\n",
    "\n",
    "len(lll)"
   ]
  },
  {
   "cell_type": "code",
   "execution_count": 35,
   "metadata": {},
   "outputs": [
    {
     "name": "stdout",
     "output_type": "stream",
     "text": [
      "array('i', [1, 3, 5, 9, 55])\n"
     ]
    }
   ],
   "source": [
    "new_aarr = lll[:10:2]\n",
    "print(new_aarr)"
   ]
  },
  {
   "cell_type": "code",
   "execution_count": 40,
   "metadata": {},
   "outputs": [
    {
     "data": {
      "text/plain": [
       "array('i', [3, 5, 9, 55, 88, 665, 56])"
      ]
     },
     "execution_count": 40,
     "metadata": {},
     "output_type": "execute_result"
    }
   ],
   "source": [
    "lll[2:15:2]\n"
   ]
  },
  {
   "cell_type": "code",
   "execution_count": 43,
   "metadata": {},
   "outputs": [
    {
     "data": {
      "text/plain": [
       "array('i', [665, 554, 56, 54])"
      ]
     },
     "execution_count": 43,
     "metadata": {},
     "output_type": "execute_result"
    }
   ],
   "source": [
    "lll[-4:]"
   ]
  },
  {
   "cell_type": "code",
   "execution_count": 45,
   "metadata": {},
   "outputs": [
    {
     "data": {
      "text/plain": [
       "array('i', [1, 2, 3, 4, 5, 67, 9, 646, 55, 96, 88, 44, 665, 554, 56, 54])"
      ]
     },
     "execution_count": 45,
     "metadata": {},
     "output_type": "execute_result"
    }
   ],
   "source": [
    "lll[-16:]"
   ]
  },
  {
   "cell_type": "code",
   "execution_count": 47,
   "metadata": {},
   "outputs": [
    {
     "data": {
      "text/plain": [
       "array('i', [1, 4, 9, 96, 665])"
      ]
     },
     "execution_count": 47,
     "metadata": {},
     "output_type": "execute_result"
    }
   ],
   "source": [
    "lll[-16:-1:3]"
   ]
  },
  {
   "cell_type": "code",
   "execution_count": null,
   "metadata": {},
   "outputs": [],
   "source": []
  }
 ],
 "metadata": {
  "kernelspec": {
   "display_name": "Python 3",
   "language": "python",
   "name": "python3"
  },
  "language_info": {
   "codemirror_mode": {
    "name": "ipython",
    "version": 3
   },
   "file_extension": ".py",
   "mimetype": "text/x-python",
   "name": "python",
   "nbconvert_exporter": "python",
   "pygments_lexer": "ipython3",
   "version": "3.10.8"
  },
  "orig_nbformat": 4,
  "vscode": {
   "interpreter": {
    "hash": "2119078cc0dfdde3c45464a9929dc1bbf7fecaa292faa7598f650c88797531d1"
   }
  }
 },
 "nbformat": 4,
 "nbformat_minor": 2
}
