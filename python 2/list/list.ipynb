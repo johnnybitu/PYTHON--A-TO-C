{
 "cells": [
  {
   "cell_type": "markdown",
   "metadata": {},
   "source": [
    "# list []"
   ]
  },
  {
   "cell_type": "code",
   "execution_count": 4,
   "metadata": {},
   "outputs": [
    {
     "name": "stdout",
     "output_type": "stream",
     "text": [
      "1\n",
      "4\n",
      "5\n",
      "6\n",
      "7\n",
      "89\n",
      "johnny\n",
      "list\n"
     ]
    }
   ],
   "source": [
    "a = [1,4,5,6,7,89,'johnny', 'list']\n",
    "\n",
    "for i in a :\n",
    "    print(i)"
   ]
  },
  {
   "cell_type": "code",
   "execution_count": 6,
   "metadata": {},
   "outputs": [
    {
     "name": "stdout",
     "output_type": "stream",
     "text": [
      "0 1\n",
      "1 4\n",
      "2 5\n",
      "3 6\n",
      "4 7\n",
      "5 89\n",
      "6 johnny\n",
      "7 list\n"
     ]
    }
   ],
   "source": [
    "a = [1,4,5,6,7,89,'johnny', 'list']\n",
    "n = len(a)\n",
    "for i in range (n):\n",
    "    print(i, a[i])"
   ]
  },
  {
   "cell_type": "code",
   "execution_count": 7,
   "metadata": {},
   "outputs": [
    {
     "name": "stdout",
     "output_type": "stream",
     "text": [
      "0 1\n",
      "1 4\n",
      "2 5\n",
      "3 6\n",
      "4 7\n",
      "5 89\n",
      "6 johnny\n",
      "7 list\n"
     ]
    }
   ],
   "source": [
    "a = [1,4,5,6,7,89,'johnny', 'list']\n",
    "n = len(a)\n",
    "i = 0\n",
    "while i < n:\n",
    "    print(i,a[i])\n",
    "    i = i+1"
   ]
  },
  {
   "cell_type": "code",
   "execution_count": 8,
   "metadata": {},
   "outputs": [
    {
     "name": "stdout",
     "output_type": "stream",
     "text": [
      " 1\n",
      "* 4\n",
      "** 5\n",
      "*** 6\n",
      "**** 7\n",
      "***** 89\n",
      "****** johnny\n",
      "******* list\n"
     ]
    }
   ],
   "source": [
    "a = [1,4,5,6,7,89,'johnny', 'list']\n",
    "\n",
    "for i in range(len(a)):\n",
    "    print(i*'*',a[i])"
   ]
  },
  {
   "cell_type": "code",
   "execution_count": 10,
   "metadata": {},
   "outputs": [
    {
     "name": "stdout",
     "output_type": "stream",
     "text": [
      " 2\n",
      "* 5\n",
      "** 6\n",
      "*** 7\n",
      "**** 8\n",
      "***** 90\n"
     ]
    }
   ],
   "source": [
    "a = [1,4,5,6,7,89]\n",
    "\n",
    "for i in range(len(a)):\n",
    "    print(i*'*',a[i]+1)"
   ]
  },
  {
   "cell_type": "markdown",
   "metadata": {},
   "source": [
    "# append()"
   ]
  },
  {
   "cell_type": "code",
   "execution_count": 11,
   "metadata": {},
   "outputs": [
    {
     "data": {
      "text/plain": [
       "[1, 4, 5, 6, 7, 89, 'johnny', 'list', 200]"
      ]
     },
     "execution_count": 11,
     "metadata": {},
     "output_type": "execute_result"
    }
   ],
   "source": [
    "a = [1,4,5,6,7,89,'johnny', 'list']\n",
    "a.append(200)\n",
    "a"
   ]
  },
  {
   "cell_type": "code",
   "execution_count": 16,
   "metadata": {},
   "outputs": [
    {
     "name": "stdout",
     "output_type": "stream",
     "text": [
      "[1, 4, 5, 6, 7, 89, 'johnny', 'list']\n"
     ]
    }
   ],
   "source": [
    "a = [1,4,5,6,7,89,'johnny', 'list']\n",
    "l= []\n",
    "for i in a :\n",
    "    l.append(i)\n",
    "\n",
    "print(l)\n"
   ]
  },
  {
   "cell_type": "markdown",
   "metadata": {},
   "source": [
    "- getting list input from user"
   ]
  },
  {
   "cell_type": "code",
   "execution_count": 11,
   "metadata": {},
   "outputs": [
    {
     "name": "stdout",
     "output_type": "stream",
     "text": [
      "['johnny', 'bit', 'mom', 'dad']\n"
     ]
    }
   ],
   "source": [
    "a = []\n",
    "n = int(input('input number how much element you want'))\n",
    "\n",
    "for i in range(n):\n",
    "    a.append(str(input('input string element')))\n",
    "print(a)\n"
   ]
  },
  {
   "cell_type": "markdown",
   "metadata": {},
   "source": [
    "- insert\n"
   ]
  },
  {
   "cell_type": "code",
   "execution_count": 7,
   "metadata": {},
   "outputs": [],
   "source": [
    "b = [1,1,2,3,4,5,6,7,'johnny', 'bit', 'lol']"
   ]
  },
  {
   "cell_type": "code",
   "execution_count": 8,
   "metadata": {},
   "outputs": [
    {
     "data": {
      "text/plain": [
       "[1, 1, 'gimmy', 2, 3, 4, 5, 6, 7, 'johnny', 'bit', 'lol']"
      ]
     },
     "execution_count": 8,
     "metadata": {},
     "output_type": "execute_result"
    }
   ],
   "source": [
    "b.insert(2,'gimmy')\n",
    "b"
   ]
  },
  {
   "cell_type": "markdown",
   "metadata": {},
   "source": [
    "- pop"
   ]
  },
  {
   "cell_type": "code",
   "execution_count": 9,
   "metadata": {},
   "outputs": [
    {
     "data": {
      "text/plain": [
       "[1, 1, 'gimmy', 2, 3, 4, 5, 6, 7, 'johnny', 'bit']"
      ]
     },
     "execution_count": 9,
     "metadata": {},
     "output_type": "execute_result"
    }
   ],
   "source": [
    "b.pop()\n",
    "b"
   ]
  },
  {
   "cell_type": "code",
   "execution_count": 10,
   "metadata": {},
   "outputs": [
    {
     "data": {
      "text/plain": [
       "[1, 1, 2, 3, 4, 5, 6, 7, 'johnny', 'bit']"
      ]
     },
     "execution_count": 10,
     "metadata": {},
     "output_type": "execute_result"
    }
   ],
   "source": [
    "b.pop(2)\n",
    "b"
   ]
  },
  {
   "cell_type": "code",
   "execution_count": 14,
   "metadata": {},
   "outputs": [],
   "source": [
    "b.append('tonny')"
   ]
  },
  {
   "cell_type": "code",
   "execution_count": 15,
   "metadata": {},
   "outputs": [
    {
     "data": {
      "text/plain": [
       "[1, 1, 2, 3, 4, 5, 6, 7, 'johnny', 'bit', 'tonny']"
      ]
     },
     "execution_count": 15,
     "metadata": {},
     "output_type": "execute_result"
    }
   ],
   "source": [
    "\n",
    "b"
   ]
  },
  {
   "cell_type": "markdown",
   "metadata": {},
   "source": [
    "- remove"
   ]
  },
  {
   "cell_type": "code",
   "execution_count": 16,
   "metadata": {},
   "outputs": [],
   "source": [
    "b.remove('tonny')"
   ]
  },
  {
   "cell_type": "code",
   "execution_count": 17,
   "metadata": {},
   "outputs": [
    {
     "data": {
      "text/plain": [
       "[1, 1, 2, 3, 4, 5, 6, 7, 'johnny', 'bit']"
      ]
     },
     "execution_count": 17,
     "metadata": {},
     "output_type": "execute_result"
    }
   ],
   "source": [
    "b"
   ]
  },
  {
   "cell_type": "markdown",
   "metadata": {},
   "source": [
    "- index"
   ]
  },
  {
   "cell_type": "code",
   "execution_count": 19,
   "metadata": {},
   "outputs": [
    {
     "data": {
      "text/plain": [
       "8"
      ]
     },
     "execution_count": 19,
     "metadata": {},
     "output_type": "execute_result"
    }
   ],
   "source": [
    "b.index('johnny')"
   ]
  },
  {
   "cell_type": "markdown",
   "metadata": {},
   "source": [
    "- reverse"
   ]
  },
  {
   "cell_type": "code",
   "execution_count": 20,
   "metadata": {},
   "outputs": [],
   "source": [
    "b.reverse()"
   ]
  },
  {
   "cell_type": "code",
   "execution_count": 25,
   "metadata": {},
   "outputs": [
    {
     "data": {
      "text/plain": [
       "['bit', 'johnny', 7, 6, 5, 4, 3, 2, 1, 1]"
      ]
     },
     "execution_count": 25,
     "metadata": {},
     "output_type": "execute_result"
    }
   ],
   "source": [
    "b"
   ]
  },
  {
   "cell_type": "markdown",
   "metadata": {},
   "source": [
    "- or you can do this"
   ]
  },
  {
   "cell_type": "code",
   "execution_count": 27,
   "metadata": {},
   "outputs": [],
   "source": [
    "bb = b[::-1]"
   ]
  },
  {
   "cell_type": "code",
   "execution_count": 28,
   "metadata": {},
   "outputs": [
    {
     "name": "stdout",
     "output_type": "stream",
     "text": [
      "[1, 1, 2, 3, 4, 5, 6, 7, 'johnny', 'bit']\n"
     ]
    }
   ],
   "source": [
    "print(bb)"
   ]
  },
  {
   "cell_type": "markdown",
   "metadata": {},
   "source": [
    "- extend"
   ]
  },
  {
   "cell_type": "code",
   "execution_count": 29,
   "metadata": {},
   "outputs": [
    {
     "data": {
      "text/plain": [
       "['bit', 'johnny', 7, 6, 5, 4, 3, 2, 1, 1]"
      ]
     },
     "execution_count": 29,
     "metadata": {},
     "output_type": "execute_result"
    }
   ],
   "source": [
    "b"
   ]
  },
  {
   "cell_type": "code",
   "execution_count": 31,
   "metadata": {},
   "outputs": [],
   "source": [
    "b.extend(['tony', 1,2,3])"
   ]
  },
  {
   "cell_type": "code",
   "execution_count": 32,
   "metadata": {},
   "outputs": [
    {
     "data": {
      "text/plain": [
       "['bit', 'johnny', 7, 6, 5, 4, 3, 2, 1, 1, 'tony', 1, 2, 3]"
      ]
     },
     "execution_count": 32,
     "metadata": {},
     "output_type": "execute_result"
    }
   ],
   "source": [
    "b"
   ]
  },
  {
   "cell_type": "code",
   "execution_count": 33,
   "metadata": {},
   "outputs": [],
   "source": [
    "b.extend('INDIA')"
   ]
  },
  {
   "cell_type": "code",
   "execution_count": 36,
   "metadata": {},
   "outputs": [
    {
     "data": {
      "text/plain": [
       "['bit',\n",
       " 'johnny',\n",
       " 7,\n",
       " 6,\n",
       " 5,\n",
       " 4,\n",
       " 3,\n",
       " 2,\n",
       " 1,\n",
       " 1,\n",
       " 'tony',\n",
       " 1,\n",
       " 2,\n",
       " 3,\n",
       " 'I',\n",
       " 'N',\n",
       " 'D',\n",
       " 'I',\n",
       " 'A']"
      ]
     },
     "execution_count": 36,
     "metadata": {},
     "output_type": "execute_result"
    }
   ],
   "source": [
    "b"
   ]
  },
  {
   "cell_type": "markdown",
   "metadata": {},
   "source": [
    "- count"
   ]
  },
  {
   "cell_type": "code",
   "execution_count": 67,
   "metadata": {},
   "outputs": [
    {
     "name": "stdout",
     "output_type": "stream",
     "text": [
      "['j', 'o', 'h', 'n', 'n', 'n', 'y', ' ', 'i', 's', ' ', 'm', 'y', ' ', 'n', 'a', 'm', 'e', 't', 'o', 'n', 'n', 'y', ' ', 'i', 's', ' ', 'm', 'y', ' ', 'b', 'r', 'o', 'y', 'o', 'u', ' ', 'a', 'r', 'e', ' ', 'm', 'y', ' ', 'f', 'o', 'e']\n"
     ]
    }
   ],
   "source": [
    "n =[]\n",
    "b = int(input('element number'))\n",
    "for i in range(b):\n",
    "    n.extend(str(input('elements')))\n",
    "print(n)"
   ]
  },
  {
   "cell_type": "code",
   "execution_count": 92,
   "metadata": {},
   "outputs": [
    {
     "data": {
      "text/plain": [
       "['j',\n",
       " 'o',\n",
       " 'h',\n",
       " 'n',\n",
       " 'n',\n",
       " 'n',\n",
       " 'y',\n",
       " ' ',\n",
       " 'i',\n",
       " 's',\n",
       " ' ',\n",
       " 'm',\n",
       " 'y',\n",
       " ' ',\n",
       " 'n',\n",
       " 'a',\n",
       " 'm',\n",
       " 'e',\n",
       " 't',\n",
       " 'o',\n",
       " 'n',\n",
       " 'n',\n",
       " 'y',\n",
       " ' ',\n",
       " 'i',\n",
       " 's',\n",
       " ' ',\n",
       " 'm',\n",
       " 'y',\n",
       " ' ',\n",
       " 'b',\n",
       " 'r',\n",
       " 'o',\n",
       " 'y',\n",
       " 'o',\n",
       " 'u',\n",
       " ' ',\n",
       " 'a',\n",
       " 'r',\n",
       " 'e',\n",
       " ' ',\n",
       " 'm',\n",
       " 'y',\n",
       " ' ',\n",
       " 'f',\n",
       " 'o',\n",
       " 'e']"
      ]
     },
     "execution_count": 92,
     "metadata": {},
     "output_type": "execute_result"
    }
   ],
   "source": [
    "n"
   ]
  },
  {
   "cell_type": "code",
   "execution_count": 69,
   "metadata": {},
   "outputs": [
    {
     "data": {
      "text/plain": [
       "4"
      ]
     },
     "execution_count": 69,
     "metadata": {},
     "output_type": "execute_result"
    }
   ],
   "source": [
    "n.count('m') # in n list m has 3 times "
   ]
  },
  {
   "cell_type": "code",
   "execution_count": 70,
   "metadata": {},
   "outputs": [
    {
     "data": {
      "text/plain": [
       "6"
      ]
     },
     "execution_count": 70,
     "metadata": {},
     "output_type": "execute_result"
    }
   ],
   "source": [
    "n.count('n')"
   ]
  },
  {
   "cell_type": "markdown",
   "metadata": {},
   "source": [
    "- copy"
   ]
  },
  {
   "cell_type": "code",
   "execution_count": 93,
   "metadata": {},
   "outputs": [],
   "source": [
    "ck = n.copy()\n",
    "dk = ck.copy()"
   ]
  },
  {
   "cell_type": "markdown",
   "metadata": {},
   "source": [
    "- sort"
   ]
  },
  {
   "cell_type": "code",
   "execution_count": 94,
   "metadata": {},
   "outputs": [
    {
     "data": {
      "text/plain": [
       "[' ',\n",
       " ' ',\n",
       " ' ',\n",
       " ' ',\n",
       " ' ',\n",
       " ' ',\n",
       " ' ',\n",
       " ' ',\n",
       " ' ',\n",
       " 'a',\n",
       " 'a',\n",
       " 'b',\n",
       " 'e',\n",
       " 'e',\n",
       " 'e',\n",
       " 'f',\n",
       " 'h',\n",
       " 'i',\n",
       " 'i',\n",
       " 'j',\n",
       " 'm',\n",
       " 'm',\n",
       " 'm',\n",
       " 'm',\n",
       " 'n',\n",
       " 'n',\n",
       " 'n',\n",
       " 'n',\n",
       " 'n',\n",
       " 'n',\n",
       " 'o',\n",
       " 'o',\n",
       " 'o',\n",
       " 'o',\n",
       " 'o',\n",
       " 'r',\n",
       " 'r',\n",
       " 's',\n",
       " 's',\n",
       " 't',\n",
       " 'u',\n",
       " 'y',\n",
       " 'y',\n",
       " 'y',\n",
       " 'y',\n",
       " 'y',\n",
       " 'y']"
      ]
     },
     "execution_count": 94,
     "metadata": {},
     "output_type": "execute_result"
    }
   ],
   "source": [
    "ck.sort(reverse=False)\n",
    "ck"
   ]
  },
  {
   "cell_type": "code",
   "execution_count": 79,
   "metadata": {},
   "outputs": [],
   "source": [
    "ck.sort()"
   ]
  },
  {
   "cell_type": "code",
   "execution_count": 78,
   "metadata": {},
   "outputs": [
    {
     "data": {
      "text/plain": [
       "[' ',\n",
       " ' ',\n",
       " ' ',\n",
       " ' ',\n",
       " ' ',\n",
       " ' ',\n",
       " ' ',\n",
       " ' ',\n",
       " ' ',\n",
       " 'a',\n",
       " 'a',\n",
       " 'b',\n",
       " 'e',\n",
       " 'e',\n",
       " 'e',\n",
       " 'f',\n",
       " 'h',\n",
       " 'i',\n",
       " 'i',\n",
       " 'j',\n",
       " 'm',\n",
       " 'm',\n",
       " 'm',\n",
       " 'm',\n",
       " 'n',\n",
       " 'n',\n",
       " 'n',\n",
       " 'n',\n",
       " 'n',\n",
       " 'n',\n",
       " 'o',\n",
       " 'o',\n",
       " 'o',\n",
       " 'o',\n",
       " 'o',\n",
       " 'r',\n",
       " 'r',\n",
       " 's',\n",
       " 's',\n",
       " 't',\n",
       " 'u',\n",
       " 'y',\n",
       " 'y',\n",
       " 'y',\n",
       " 'y',\n",
       " 'y',\n",
       " 'y']"
      ]
     },
     "execution_count": 78,
     "metadata": {},
     "output_type": "execute_result"
    }
   ],
   "source": [
    "ck"
   ]
  },
  {
   "cell_type": "markdown",
   "metadata": {},
   "source": [
    "- remove"
   ]
  },
  {
   "cell_type": "code",
   "execution_count": 103,
   "metadata": {},
   "outputs": [],
   "source": [
    "a =[1,2,3,4,5,6,7,8,'ab']"
   ]
  },
  {
   "cell_type": "code",
   "execution_count": 104,
   "metadata": {},
   "outputs": [
    {
     "data": {
      "text/plain": [
       "[2, 3, 4, 5, 6, 7, 8, 'ab']"
      ]
     },
     "execution_count": 104,
     "metadata": {},
     "output_type": "execute_result"
    }
   ],
   "source": [
    "a.remove(1)\n",
    "a"
   ]
  },
  {
   "cell_type": "markdown",
   "metadata": {},
   "source": [
    "- clear"
   ]
  },
  {
   "cell_type": "code",
   "execution_count": 105,
   "metadata": {},
   "outputs": [
    {
     "data": {
      "text/plain": [
       "['j',\n",
       " 'o',\n",
       " 'h',\n",
       " 'n',\n",
       " 'n',\n",
       " 'n',\n",
       " 'y',\n",
       " ' ',\n",
       " 'i',\n",
       " 's',\n",
       " ' ',\n",
       " 'm',\n",
       " 'y',\n",
       " ' ',\n",
       " 'n',\n",
       " 'a',\n",
       " 'm',\n",
       " 'e',\n",
       " 't',\n",
       " 'o',\n",
       " 'n',\n",
       " 'n',\n",
       " 'y',\n",
       " ' ',\n",
       " 'i',\n",
       " 's',\n",
       " ' ',\n",
       " 'm',\n",
       " 'y',\n",
       " ' ',\n",
       " 'b',\n",
       " 'r',\n",
       " 'o',\n",
       " 'y',\n",
       " 'o',\n",
       " 'u',\n",
       " ' ',\n",
       " 'a',\n",
       " 'r',\n",
       " 'e',\n",
       " ' ',\n",
       " 'm',\n",
       " 'y',\n",
       " ' ',\n",
       " 'f',\n",
       " 'o',\n",
       " 'e']"
      ]
     },
     "execution_count": 105,
     "metadata": {},
     "output_type": "execute_result"
    }
   ],
   "source": [
    "dk"
   ]
  },
  {
   "cell_type": "code",
   "execution_count": 106,
   "metadata": {},
   "outputs": [],
   "source": [
    "dk.clear()"
   ]
  },
  {
   "cell_type": "code",
   "execution_count": 107,
   "metadata": {},
   "outputs": [
    {
     "data": {
      "text/plain": [
       "[]"
      ]
     },
     "execution_count": 107,
     "metadata": {},
     "output_type": "execute_result"
    }
   ],
   "source": [
    "dk"
   ]
  },
  {
   "cell_type": "markdown",
   "metadata": {},
   "source": [
    "- cloning"
   ]
  },
  {
   "cell_type": "code",
   "execution_count": 109,
   "metadata": {},
   "outputs": [
    {
     "name": "stdout",
     "output_type": "stream",
     "text": [
      "['j', 'o', 'h', 'n', 'n', 'y', 'b', 'i', 't', 'd', 'u', 'd', 'e', 'm', 'a', 'n', 'y', 'm', 'o', 'r', 'e']\n"
     ]
    }
   ],
   "source": [
    "aa = []\n",
    "n1 = int(input('element number'))\n",
    "for i in range(n1) :\n",
    "    aa.extend(str(input('elements')))\n",
    "print(aa)"
   ]
  },
  {
   "cell_type": "code",
   "execution_count": 111,
   "metadata": {},
   "outputs": [
    {
     "name": "stdout",
     "output_type": "stream",
     "text": [
      "['j', 'o', 'h', 'n', 'n', 'y', 'b', 'i', 't', 'd', 'u', 'd', 'e', 'm', 'a', 'n', 'y', 'm', 'o', 'r', 'e']\n"
     ]
    }
   ],
   "source": [
    "bb = aa[:]\n",
    "print(bb)"
   ]
  },
  {
   "cell_type": "markdown",
   "metadata": {},
   "source": [
    "- concatenation"
   ]
  },
  {
   "cell_type": "code",
   "execution_count": 114,
   "metadata": {},
   "outputs": [
    {
     "name": "stdout",
     "output_type": "stream",
     "text": [
      "['j', 'o', 'h', 'n', 'n', 'y', 'b', 'i', 't', 'd', 'u', 'd', 'e', 'm', 'a', 'n', 'y', 'm', 'o', 'r', 'e', 'j', 'o', 'h', 'n', 'n', 'y', 'b', 'i', 't', 'd', 'u', 'd', 'e', 'm', 'a', 'n', 'y', 'm', 'o', 'r', 'e']\n"
     ]
    }
   ],
   "source": [
    "cc=aa+bb\n",
    "print(cc)"
   ]
  },
  {
   "cell_type": "code",
   "execution_count": 116,
   "metadata": {},
   "outputs": [],
   "source": [
    "cc.sort()"
   ]
  },
  {
   "cell_type": "code",
   "execution_count": 118,
   "metadata": {},
   "outputs": [
    {
     "name": "stdout",
     "output_type": "stream",
     "text": [
      "['a', 'a', 'b', 'b', 'd', 'd', 'd', 'd', 'e', 'e', 'e', 'e', 'h', 'h', 'i', 'i', 'j', 'j', 'm', 'm', 'm', 'm', 'n', 'n', 'n', 'n', 'n', 'n', 'o', 'o', 'o', 'o', 'r', 'r', 't', 't', 'u', 'u', 'y', 'y', 'y', 'y']\n"
     ]
    }
   ],
   "source": [
    "print(cc)"
   ]
  },
  {
   "cell_type": "markdown",
   "metadata": {},
   "source": [
    "- repeating list"
   ]
  },
  {
   "cell_type": "code",
   "execution_count": 120,
   "metadata": {},
   "outputs": [
    {
     "name": "stdout",
     "output_type": "stream",
     "text": [
      "['a', 'a', 'b', 'b', 'd', 'd', 'd', 'd', 'e', 'e', 'e', 'e', 'h', 'h', 'i', 'i', 'j', 'j', 'm', 'm', 'm', 'm', 'n', 'n', 'n', 'n', 'n', 'n', 'o', 'o', 'o', 'o', 'r', 'r', 't', 't', 'u', 'u', 'y', 'y', 'y', 'y', 'a', 'a', 'b', 'b', 'd', 'd', 'd', 'd', 'e', 'e', 'e', 'e', 'h', 'h', 'i', 'i', 'j', 'j', 'm', 'm', 'm', 'm', 'n', 'n', 'n', 'n', 'n', 'n', 'o', 'o', 'o', 'o', 'r', 'r', 't', 't', 'u', 'u', 'y', 'y', 'y', 'y']\n"
     ]
    }
   ],
   "source": [
    "dd = cc*2\n",
    "print(dd)"
   ]
  },
  {
   "cell_type": "markdown",
   "metadata": {},
   "source": [
    "- nested list with loop"
   ]
  },
  {
   "cell_type": "code",
   "execution_count": 130,
   "metadata": {},
   "outputs": [
    {
     "name": "stdout",
     "output_type": "stream",
     "text": [
      "['j', 'o', 'h', 'n', 'n', 'y', ['j', 'o', 'h', 'n', 'n', 'y', 'b', 'i', 't'], 'i', 'n', 'd', 'i', 'a', ['t', 'a', 'n', 'n', 'y', ' ', 't', 'a', 'n', 'n', 'y']]\n"
     ]
    }
   ],
   "source": [
    "l=[]\n",
    "n = int(input('element number'))\n",
    "\n",
    "for i in range(n):\n",
    "    l.extend(str(input('this is str')))\n",
    "    l.append(list(input('this is list')))\n",
    "print(l)"
   ]
  },
  {
   "cell_type": "code",
   "execution_count": 131,
   "metadata": {},
   "outputs": [
    {
     "name": "stdout",
     "output_type": "stream",
     "text": [
      "['j', 'o', 'h', 'n', 'n', 'y', ['j', 'o', 'h', 'n', 'n', 'y', 'b', 'i', 't'], 'i', 'n', 'd', 'i', 'a', ['t', 'a', 'n', 'n', 'y', ' ', 't', 'a', 'n', 'n', 'y']]\n"
     ]
    }
   ],
   "source": [
    "print(l)"
   ]
  },
  {
   "cell_type": "code",
   "execution_count": 132,
   "metadata": {},
   "outputs": [
    {
     "name": "stdout",
     "output_type": "stream",
     "text": [
      "j\n",
      "o\n",
      "h\n",
      "n\n",
      "n\n",
      "y\n",
      "['j', 'o', 'h', 'n', 'n', 'y', 'b', 'i', 't']\n",
      "i\n",
      "n\n",
      "d\n",
      "i\n",
      "a\n",
      "['t', 'a', 'n', 'n', 'y', ' ', 't', 'a', 'n', 'n', 'y']\n"
     ]
    }
   ],
   "source": [
    "for i in l:\n",
    "    print(i)"
   ]
  },
  {
   "cell_type": "code",
   "execution_count": 135,
   "metadata": {},
   "outputs": [
    {
     "name": "stdout",
     "output_type": "stream",
     "text": [
      "j\n",
      "o\n",
      "h\n",
      "n\n",
      "n\n",
      "y\n",
      "['j', 'o', 'h', 'n', 'n', 'y', 'b', 'i', 't']\n",
      "['j', 'o', 'h', 'n', 'n', 'y', 'b', 'i', 't']\n",
      "['j', 'o', 'h', 'n', 'n', 'y', 'b', 'i', 't']\n",
      "['j', 'o', 'h', 'n', 'n', 'y', 'b', 'i', 't']\n",
      "['j', 'o', 'h', 'n', 'n', 'y', 'b', 'i', 't']\n",
      "['j', 'o', 'h', 'n', 'n', 'y', 'b', 'i', 't']\n",
      "['j', 'o', 'h', 'n', 'n', 'y', 'b', 'i', 't']\n",
      "['j', 'o', 'h', 'n', 'n', 'y', 'b', 'i', 't']\n",
      "['j', 'o', 'h', 'n', 'n', 'y', 'b', 'i', 't']\n",
      "i\n",
      "n\n",
      "d\n",
      "i\n",
      "a\n",
      "['t', 'a', 'n', 'n', 'y', ' ', 't', 'a', 'n', 'n', 'y']\n",
      "['t', 'a', 'n', 'n', 'y', ' ', 't', 'a', 'n', 'n', 'y']\n",
      "['t', 'a', 'n', 'n', 'y', ' ', 't', 'a', 'n', 'n', 'y']\n",
      "['t', 'a', 'n', 'n', 'y', ' ', 't', 'a', 'n', 'n', 'y']\n",
      "['t', 'a', 'n', 'n', 'y', ' ', 't', 'a', 'n', 'n', 'y']\n",
      "['t', 'a', 'n', 'n', 'y', ' ', 't', 'a', 'n', 'n', 'y']\n",
      "['t', 'a', 'n', 'n', 'y', ' ', 't', 'a', 'n', 'n', 'y']\n",
      "['t', 'a', 'n', 'n', 'y', ' ', 't', 'a', 'n', 'n', 'y']\n",
      "['t', 'a', 'n', 'n', 'y', ' ', 't', 'a', 'n', 'n', 'y']\n",
      "['t', 'a', 'n', 'n', 'y', ' ', 't', 'a', 'n', 'n', 'y']\n",
      "['t', 'a', 'n', 'n', 'y', ' ', 't', 'a', 'n', 'n', 'y']\n"
     ]
    }
   ],
   "source": [
    "for i in l:\n",
    "    for r in i:\n",
    "        print(i)"
   ]
  },
  {
   "cell_type": "code",
   "execution_count": 137,
   "metadata": {},
   "outputs": [
    {
     "name": "stdout",
     "output_type": "stream",
     "text": [
      "0 0 j\n",
      "1 0 o\n",
      "2 0 h\n",
      "3 0 n\n",
      "4 0 n\n",
      "5 0 y\n",
      "6 0 j\n",
      "6 1 o\n",
      "6 2 h\n",
      "6 3 n\n",
      "6 4 n\n",
      "6 5 y\n",
      "6 6 b\n",
      "6 7 i\n",
      "6 8 t\n",
      "7 0 i\n",
      "8 0 n\n",
      "9 0 d\n",
      "10 0 i\n",
      "11 0 a\n",
      "12 0 t\n",
      "12 1 a\n",
      "12 2 n\n",
      "12 3 n\n",
      "12 4 y\n",
      "12 5  \n",
      "12 6 t\n",
      "12 7 a\n",
      "12 8 n\n",
      "12 9 n\n",
      "12 10 y\n"
     ]
    }
   ],
   "source": [
    "for i in range(len(l)):\n",
    "    for j in range(len(l[i])):\n",
    "        print(i,j,l[i][j])"
   ]
  },
  {
   "cell_type": "code",
   "execution_count": 145,
   "metadata": {},
   "outputs": [
    {
     "name": "stdout",
     "output_type": "stream",
     "text": [
      "['johnny', ['j', 'o', 'h', 'n', 'n', 'y']]\n"
     ]
    }
   ],
   "source": [
    "\n",
    "\n",
    "\n",
    "m=[]\n",
    "n = int(input('element number'))\n",
    "\n",
    "for i in range(n):\n",
    "    m.append(str(input('this is str')))\n",
    "    m.append(list(str(input('this is list'))))\n",
    "print(m)"
   ]
  },
  {
   "cell_type": "code",
   "execution_count": 149,
   "metadata": {},
   "outputs": [
    {
     "name": "stdout",
     "output_type": "stream",
     "text": [
      "johnny\n",
      "['j', 'o', 'h', 'n', 'n', 'y']\n"
     ]
    }
   ],
   "source": [
    "for i in m:\n",
    "    print(i)"
   ]
  },
  {
   "cell_type": "code",
   "execution_count": 157,
   "metadata": {},
   "outputs": [
    {
     "name": "stdout",
     "output_type": "stream",
     "text": [
      "0 johnny\n",
      "1 ['j', 'o', 'h', 'n', 'n', 'y']\n"
     ]
    }
   ],
   "source": [
    "for i in range(len(m)):\n",
    "        print(i,m[i])"
   ]
  },
  {
   "cell_type": "code",
   "execution_count": 162,
   "metadata": {},
   "outputs": [
    {
     "name": "stdout",
     "output_type": "stream",
     "text": [
      "0 j\n",
      "0 o\n",
      "0 h\n",
      "0 n\n",
      "0 n\n",
      "0 y\n",
      "1 j\n",
      "1 o\n",
      "1 h\n",
      "1 n\n",
      "1 n\n",
      "1 y\n"
     ]
    }
   ],
   "source": [
    "for i in range(len(m)):\n",
    "    for r in range(len(m[i])):\n",
    "        print(i,m[i][r])"
   ]
  },
  {
   "cell_type": "code",
   "execution_count": 163,
   "metadata": {},
   "outputs": [
    {
     "name": "stdout",
     "output_type": "stream",
     "text": [
      "0 j 0\n",
      "0 o 1\n",
      "0 h 2\n",
      "0 n 3\n",
      "0 n 4\n",
      "0 y 5\n",
      "1 j 0\n",
      "1 o 1\n",
      "1 h 2\n",
      "1 n 3\n",
      "1 n 4\n",
      "1 y 5\n"
     ]
    }
   ],
   "source": [
    "for i in range(len(m)):\n",
    "    for r in range(len(m[i])):\n",
    "        print(i,m[i][r],r)"
   ]
  },
  {
   "cell_type": "code",
   "execution_count": null,
   "metadata": {},
   "outputs": [],
   "source": []
  }
 ],
 "metadata": {
  "kernelspec": {
   "display_name": "Python 3",
   "language": "python",
   "name": "python3"
  },
  "language_info": {
   "codemirror_mode": {
    "name": "ipython",
    "version": 3
   },
   "file_extension": ".py",
   "mimetype": "text/x-python",
   "name": "python",
   "nbconvert_exporter": "python",
   "pygments_lexer": "ipython3",
   "version": "3.10.8 (tags/v3.10.8:aaaf517, Oct 11 2022, 16:50:30) [MSC v.1933 64 bit (AMD64)]"
  },
  "orig_nbformat": 4,
  "vscode": {
   "interpreter": {
    "hash": "e0acaf148705ed9ed86cc5cad12259d7985e30670e5686e5f55604a9b3b84a55"
   }
  }
 },
 "nbformat": 4,
 "nbformat_minor": 2
}
